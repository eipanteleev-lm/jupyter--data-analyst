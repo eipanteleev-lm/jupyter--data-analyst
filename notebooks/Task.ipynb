{
 "cells": [
  {
   "cell_type": "markdown",
   "source": [
    "# Data Engineer tasks\r\n",
    "\r\n",
    "- [Пример установки дополнительных библиотек](#bullet-1)\r\n",
    "- [Подключение линтера](#bullet-2)\r\n",
    "- [Пример подключения к базе](#bullet-3)\r\n",
    "- [1. Последняя запись ](#bullet-4)\r\n",
    "- [2. Продажи и поставки](#bullet-5)\r\n",
    "- [3. Товарооборот](#bullet-6)"
   ],
   "metadata": {}
  },
  {
   "cell_type": "markdown",
   "source": [
    "## Пример установки дополнительных библиотек <a class=\"anchor\" id=\"bullet-1\"></a>\n",
    "\n",
    "Просто `!pip install module-you-need`"
   ],
   "metadata": {}
  },
  {
   "cell_type": "code",
   "execution_count": null,
   "source": [
    "!pip install matplotlib"
   ],
   "outputs": [],
   "metadata": {}
  },
  {
   "cell_type": "markdown",
   "source": [
    "## Подключение линтера <a class=\"anchor\" id=\"bullet-2\"></a>"
   ],
   "metadata": {}
  },
  {
   "cell_type": "code",
   "execution_count": null,
   "source": [
    "%load_ext pycodestyle_magic\r\n",
    "%flake8_on"
   ],
   "outputs": [],
   "metadata": {}
  },
  {
   "cell_type": "markdown",
   "source": [
    "---"
   ],
   "metadata": {}
  },
  {
   "cell_type": "code",
   "execution_count": null,
   "source": [
    "import os\r\n",
    "\r\n",
    "import numpy as np\r\n",
    "\r\n",
    "import pandas as pd\r\n",
    "\r\n",
    "import psycopg2"
   ],
   "outputs": [],
   "metadata": {}
  },
  {
   "cell_type": "markdown",
   "source": [
    "## Пример подключения к базе <a class=\"anchor\" id=\"bullet-3\"></a>"
   ],
   "metadata": {}
  },
  {
   "cell_type": "code",
   "execution_count": null,
   "source": [
    "POSTGRES = dict(\r\n",
    "    host=os.environ['POSTGRES_HOST'],\r\n",
    "    port=int(os.environ['POSTGRES_PORT']),\r\n",
    "    dbname=os.environ['POSTGRES_DB'],\r\n",
    "    user=os.environ['POSTGRES_USER'],\r\n",
    "    password=os.environ['POSTGRES_PASSWORD']\r\n",
    ")"
   ],
   "outputs": [],
   "metadata": {}
  },
  {
   "cell_type": "code",
   "execution_count": null,
   "source": [
    "conn = psycopg2.connect(**POSTGRES)\r\n",
    "\r\n",
    "try:\r\n",
    "    df = pd.read_sql('select * from hello;', conn)\r\n",
    "except Exception as ex:\r\n",
    "    print(f\"Something is wrong: {ex}\")\r\n",
    "finally:\r\n",
    "    conn.close()"
   ],
   "outputs": [],
   "metadata": {}
  },
  {
   "cell_type": "code",
   "execution_count": null,
   "source": [
    "df"
   ],
   "outputs": [],
   "metadata": {}
  },
  {
   "cell_type": "markdown",
   "source": [
    "## 1. Последняя запись <a class=\"anchor\" id=\"bullet-4\"></a>\n",
    "\n",
    "Есть таблица `stocks`, где хранится запас товара в магазине в некоторый момент времени.\n",
    "\n",
    "**product** | stock | **ts**\n",
    ":-- | :-- | :--\n",
    "Швабра | 15 | 2021-07-28 08:00:00\n",
    "Швабра | 14 | 2021-07-28 09:15:00\n",
    "Перфоратор | 2 | 2021-07-28 11:30:00\n",
    "... | ... | ...\n",
    "Швабра | 3 | 2021-07-29 19:13:00\n",
    "\n",
    "**product** - наименование товара;  \n",
    "**stock** - запас товара;  \n",
    "**ts** - момент, в который запас принял текущее значение;\n",
    "\n",
    "Первичный ключ: `(product, ts)`\n",
    "\n",
    "### Задача\n",
    "\n",
    "Методами языка SQL и(или) Python нужно найти последнее состояние запаса для каждого из товаров.\n",
    "\n",
    "В результате выполнения запроса должен получиться датасет со следующими колонками:\n",
    "\n",
    "- **product** - наименование товара;\n",
    "- **stock** - последнее состояние запаса;\n",
    "- **ts** - момент, в который запас принял указанное значение;\n",
    "\n",
    "### Твой запрос"
   ],
   "metadata": {}
  },
  {
   "cell_type": "code",
   "execution_count": null,
   "source": [
    "query = \"\"\"\r\n",
    "\r\n",
    "\"\"\""
   ],
   "outputs": [],
   "metadata": {}
  },
  {
   "cell_type": "markdown",
   "source": [
    "### Получение данных"
   ],
   "metadata": {}
  },
  {
   "cell_type": "code",
   "execution_count": null,
   "source": [
    "conn = psycopg2.connect(**POSTGRES)\r\n",
    "\r\n",
    "try:\r\n",
    "    df = pd.read_sql(query, conn)\r\n",
    "except Exception as ex:\r\n",
    "    print(f\"Something is wrong: {ex}\")\r\n",
    "finally:\r\n",
    "    conn.close()"
   ],
   "outputs": [],
   "metadata": {}
  },
  {
   "cell_type": "code",
   "execution_count": null,
   "source": [
    "df"
   ],
   "outputs": [],
   "metadata": {}
  },
  {
   "cell_type": "markdown",
   "source": [
    "## 2. Продажи и поставки <a class=\"anchor\" id=\"bullet-5\"></a>\n",
    "\n",
    "Добавим таблицу `products`, содержащую данные о стоимости товаров:\n",
    "\n",
    "**product** | price\n",
    ":-- | :--\n",
    "Швабра | 1500\n",
    "... | ...\n",
    "Люстра | 2000\n",
    "\n",
    "**product** - наименование товара, первичный ключ;  \n",
    "**price** - цена продажи в рублях;\n",
    "\n",
    "Будем рассматривать два основных типа изменения запаса товара:\n",
    "- **Продажа** - запас уменьшился по сравнению с предыдущим значением, потому что-то купил товар\n",
    "- **Поставка** - запас увеличился по сравнению с предыдущим значением\n",
    "\n",
    "### Задача\n",
    "\n",
    "Методами языка SQL и(или) Python на основе дынных таблицы `stocks` нужно найти суммарные дневные продажи и поставки за каждый день (в штуках и в деньгах).\n",
    "\n",
    "В результате выполнения запроса должен получиться датасет со следующими колонками:\n",
    "\n",
    "- **dt** - дата;\n",
    "- **product** - наименование товара;\n",
    "- **action_type** - тип изменения запаса: 'SALE', если продажа, 'DELIVERY', если поставка;\n",
    "- **qty** - продажи товара в штуках в указанную дату;\n",
    "- **turnover** - продажи товара в деньгах в указанную дату;\n",
    "\n",
    "### Твой запрос"
   ],
   "metadata": {}
  },
  {
   "cell_type": "code",
   "execution_count": null,
   "source": [
    "query = \"\"\"\r\n",
    "\r\n",
    "\"\"\""
   ],
   "outputs": [],
   "metadata": {}
  },
  {
   "cell_type": "markdown",
   "source": [
    "### Получение данных"
   ],
   "metadata": {}
  },
  {
   "cell_type": "code",
   "execution_count": null,
   "source": [
    "conn = psycopg2.connect(**POSTGRES)\r\n",
    "\r\n",
    "try:\r\n",
    "    df = pd.read_sql(query, conn)\r\n",
    "except Exception as ex:\r\n",
    "    print(f\"Something is wrong: {ex}\")\r\n",
    "finally:\r\n",
    "    conn.close()"
   ],
   "outputs": [],
   "metadata": {}
  },
  {
   "cell_type": "code",
   "execution_count": null,
   "source": [
    "df"
   ],
   "outputs": [],
   "metadata": {}
  },
  {
   "cell_type": "markdown",
   "source": [
    "## 3 Товарооборот <a class=\"anchor\" id=\"bullet-6\"></a>\r\n",
    "\r\n",
    "Добавим таблички `orders` и `orders_history` с данными заказов. \r\n",
    "\r\n",
    "Таблица `orders`:\r\n",
    "\r\n",
    "**order_id** | product | qty | ts\r\n",
    ":-- | :-- | :-- | :--\r\n",
    "546593652094504602 | Газонокосилка | 9 | 2021-07-19 08:32:31\r\n",
    "... | ... | ... | ...\r\n",
    "1948869281921308769 | Лампочка | 4 | 2021-07-19 08:42:45\r\n",
    "\r\n",
    "**order_id** - ID заказа, первичный ключ;  \r\n",
    "**product** - наименование товара;  \r\n",
    "**qty** - заказанное количество товара;  \r\n",
    "**ts** - дата и время создания заказа;  \r\n",
    "\r\n",
    "Таблица `orders_history`, отражает события, происходящие с заказом:\r\n",
    "\r\n",
    "**order_id** |  status | **ts**\r\n",
    ":-- | :-- | :--\r\n",
    "546593652094504602 | CREATED | 2021-07-19 08:32:31\r\n",
    "... | ... | ...\r\n",
    "546593652094504602 | CANCELLED | 2021-07-19 09:14:53\r\n",
    "\r\n",
    "**order_id** - ID заказа;  \r\n",
    "**status** - статус заказа:\r\n",
    "\r\n",
    "- 'CREATED' - заказ создан;\r\n",
    "- 'CANCELLED' - заказ отменен;\r\n",
    "- 'COMPLETED' - заказ исполнен;\r\n",
    "\r\n",
    "**ts** - дата и время, когда заказ получил статус;\r\n",
    "\r\n",
    "Первичный ключ: `(order_id, ts)`\r\n",
    "\r\n",
    "Покупки могут быть двух типов:\r\n",
    "\r\n",
    "- Оффлайн: клиенты покупают товар в магазине (в этом случае заказ не создается, а просто изменяется запас);\r\n",
    "- Онлайн: клиенты покупают товара через сайт, при покупке создается заказ со статусом 'CREATED', запас товара уменьшается на заказанное количество не позже, чем через 30 секунд после создания заказа (из-за лага в интеграции систем). Если заказ по какой-либо причине отменяется, заказанное количество возвращается и запас товара увеличивается.\r\n",
    "\r\n",
    "### Задача\r\n",
    "\r\n",
    "Методами языка SQL и(или) Python получить суммарный дневной онлайн и оффлайн товарооборот (продано в рублях) каждого из товаров. Отмененные  незавершенные заказы не должны учитываться при расчете.\r\n",
    "\r\n",
    "В результате выполнения запроса должен получиться датасет со следующими колонками:\r\n",
    "\r\n",
    "- **dt** - дата;\r\n",
    "- **product** - наименование товара;\r\n",
    "- **channel** - канал продажи: 'ONLINE', если был заказ, 'OFFLINE', если товар куплен в магазине (заказа не было);\r\n",
    "- **turnover** - товарооборот товара в указанную дату;\r\n",
    "\r\n",
    "### Твой запрос"
   ],
   "metadata": {}
  },
  {
   "cell_type": "code",
   "execution_count": null,
   "source": [
    "query = \"\"\"\r\n",
    "\r\n",
    "\"\"\""
   ],
   "outputs": [],
   "metadata": {}
  },
  {
   "cell_type": "markdown",
   "source": [
    "### Получение данных"
   ],
   "metadata": {}
  },
  {
   "cell_type": "code",
   "execution_count": null,
   "source": [
    "conn = psycopg2.connect(**POSTGRES)\r\n",
    "\r\n",
    "try:\r\n",
    "    df = pd.read_sql(query, conn)\r\n",
    "except Exception as ex:\r\n",
    "    print(f\"Something is wrong: {ex}\")\r\n",
    "finally:\r\n",
    "    conn.close()"
   ],
   "outputs": [],
   "metadata": {}
  },
  {
   "cell_type": "code",
   "execution_count": null,
   "source": [
    "df"
   ],
   "outputs": [],
   "metadata": {}
  },
  {
   "cell_type": "code",
   "execution_count": null,
   "source": [],
   "outputs": [],
   "metadata": {}
  }
 ],
 "metadata": {
  "kernelspec": {
   "display_name": "Python 3 (ipykernel)",
   "language": "python",
   "name": "python3"
  },
  "language_info": {
   "codemirror_mode": {
    "name": "ipython",
    "version": 3
   },
   "file_extension": ".py",
   "mimetype": "text/x-python",
   "name": "python",
   "nbconvert_exporter": "python",
   "pygments_lexer": "ipython3",
   "version": "3.9.6"
  }
 },
 "nbformat": 4,
 "nbformat_minor": 5
}