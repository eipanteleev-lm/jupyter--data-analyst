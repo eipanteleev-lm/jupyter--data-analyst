{
 "cells": [
  {
   "cell_type": "markdown",
   "id": "d48bc3e5",
   "metadata": {},
   "source": [
    "# Base Notebook\n",
    "\n",
    "Базовая ноутбука для создания задания\n",
    "\n",
    "- [Пример установки дополнительных библиотек](#bullet-1)\n",
    "- [Подключение линтера](#bullet-2)\n",
    "- [Пример подключения к базе](#bullet-3)\n",
    "- [1. Последняя запись ](#bullet-4)\n",
    "- [2. Продажи и поставки](#bullet-5)\n",
    "- [3. Товарооборот](#bullet-6)"
   ]
  },
  {
   "cell_type": "markdown",
   "id": "e4157d18",
   "metadata": {},
   "source": [
    "## Пример установки дополнительных библиотек <a class=\"anchor\" id=\"bullet-1\"></a>\n",
    "\n",
    "Просто `!pip install module-you-need`"
   ]
  },
  {
   "cell_type": "code",
   "execution_count": null,
   "id": "723fac55",
   "metadata": {},
   "outputs": [],
   "source": [
    "!pip install matplotlib"
   ]
  },
  {
   "cell_type": "markdown",
   "id": "a952f596",
   "metadata": {},
   "source": [
    "## Подключение линтера <a class=\"anchor\" id=\"bullet-2\"></a>\n",
    "\n",
    "По приколу"
   ]
  },
  {
   "cell_type": "code",
   "execution_count": null,
   "id": "81674645",
   "metadata": {},
   "outputs": [],
   "source": [
    "%load_ext pycodestyle_magic\n",
    "%flake8_on"
   ]
  },
  {
   "cell_type": "markdown",
   "id": "656cfaad",
   "metadata": {},
   "source": [
    "---"
   ]
  },
  {
   "cell_type": "code",
   "execution_count": null,
   "id": "a7554aca",
   "metadata": {},
   "outputs": [],
   "source": [
    "import os\n",
    "\n",
    "import numpy as np\n",
    "\n",
    "import pandas as pd\n",
    "\n",
    "import psycopg2"
   ]
  },
  {
   "cell_type": "markdown",
   "id": "ced6d675",
   "metadata": {},
   "source": [
    "## Пример подключения к базе <a class=\"anchor\" id=\"bullet-3\"></a>"
   ]
  },
  {
   "cell_type": "code",
   "execution_count": null,
   "id": "7e3501f5",
   "metadata": {},
   "outputs": [],
   "source": [
    "POSTGRES = dict(\n",
    "    host=os.environ['POSTGRES_HOST'],\n",
    "    port=int(os.environ['POSTGRES_PORT']),\n",
    "    dbname=os.environ['POSTGRES_DB'],\n",
    "    user=os.environ['POSTGRES_USER'],\n",
    "    password=os.environ['POSTGRES_PASSWORD']\n",
    ")"
   ]
  },
  {
   "cell_type": "code",
   "execution_count": null,
   "id": "16f19c3f",
   "metadata": {},
   "outputs": [],
   "source": [
    "conn = psycopg2.connect(**POSTGRES)\n",
    "\n",
    "try:\n",
    "    df = pd.read_sql('select * from hello;', conn)\n",
    "except Exception as ex:\n",
    "    print(f\"Something is wrong: {ex}\")\n",
    "finally:\n",
    "    conn.close()"
   ]
  },
  {
   "cell_type": "code",
   "execution_count": null,
   "id": "9fca691e",
   "metadata": {},
   "outputs": [],
   "source": [
    "df"
   ]
  },
  {
   "cell_type": "markdown",
   "id": "1ba0f6cb",
   "metadata": {},
   "source": [
    "## 1. Последняя запись <a class=\"anchor\" id=\"bullet-4\"></a>\n",
    "\n",
    "Есть таблица `stocks`, где хранится запас товара в магазине в некоторый момент времени.\n",
    "\n",
    "**product** | stock | **ts**\n",
    ":-- | :-- | :--\n",
    "Швабра | 15 | 2021-07-28 08:00:00\n",
    "Швабра | 14 | 2021-07-28 09:15:00\n",
    "Перфоратор | 2 | 2021-07-28 11:30:00\n",
    "... | ... | ...\n",
    "Швабра | 3 | 2021-07-29 19:13:00\n",
    "\n",
    "**product** - наименование товара;  \n",
    "**stock** - запас товара;  \n",
    "**ts** - момент, в который запас принял текущее значение;\n",
    "\n",
    "Первичный ключ: `(product, ts)`\n",
    "\n",
    "### Задача\n",
    "\n",
    "Методами языка SQL и(или) Python нужно найти последнее состояние запаса для каждого из товаров.\n",
    "\n",
    "В результате выполнения запроса должен получиться датасет со следующими колонками:\n",
    "\n",
    "- **product** - наименование товара;\n",
    "- **stock** - последнее состояние запаса;\n",
    "- **ts** - момент, в который запас принял указанное значение;\n",
    "\n",
    "### Твой запрос"
   ]
  },
  {
   "cell_type": "code",
   "execution_count": null,
   "id": "60551a69",
   "metadata": {},
   "outputs": [],
   "source": [
    "query = \"\"\"\n",
    "\n",
    "\"\"\""
   ]
  },
  {
   "cell_type": "markdown",
   "id": "a118718b",
   "metadata": {},
   "source": [
    "### Получение данных"
   ]
  },
  {
   "cell_type": "code",
   "execution_count": null,
   "id": "00360689",
   "metadata": {},
   "outputs": [],
   "source": [
    "conn = psycopg2.connect(**POSTGRES)\n",
    "\n",
    "try:\n",
    "    df = pd.read_sql(query, conn)\n",
    "except Exception as ex:\n",
    "    print(f\"Something is wrong: {ex}\")\n",
    "finally:\n",
    "    conn.close()"
   ]
  },
  {
   "cell_type": "code",
   "execution_count": null,
   "id": "32ef707c",
   "metadata": {},
   "outputs": [],
   "source": [
    "df"
   ]
  },
  {
   "cell_type": "markdown",
   "id": "54a3f64d",
   "metadata": {},
   "source": [
    "## 2. Продажи и поставки <a class=\"anchor\" id=\"bullet-5\"></a>\n",
    "\n",
    "Добавим таблицу `products`, содержащую данные о стоимости товаров:\n",
    "\n",
    "**product** | price\n",
    ":-- | :--\n",
    "Швабра | 1500\n",
    "... | ...\n",
    "Люстра | 2000\n",
    "\n",
    "**product** - наименование товара, первичный ключ;  \n",
    "**price** - цена продажи в рублях;\n",
    "\n",
    "Будем рассматривать два основных типа изменения запаса товара:\n",
    "- **Продажа** - запас уменьшился по сравнению с предыдущим значением, потому что-то купил товар\n",
    "- **Поставка** - запас увеличился по сравнению с предыдущим значением\n",
    "\n",
    "### Задача\n",
    "\n",
    "Методами языка SQL и(или) Python на основе дынных таблицы `stocks` нужно найти суммарные дневные продажи и поставки за каждый день (в штуках и в деньгах).\n",
    "\n",
    "В результате выполнения запроса должен получиться датасет со следующими колонками:\n",
    "\n",
    "- **dt** - дата;\n",
    "- **product** - наименование товара;\n",
    "- **action_type** - тип изменения запаса: 'SALE', если продажа, 'DELIVERY', если поставка;\n",
    "- **qty** - продажи товара в штуках в указанную дату;\n",
    "- **turnover** - продажи товара в деньгах в указанную дату;\n",
    "\n",
    "### Твой запрос"
   ]
  },
  {
   "cell_type": "code",
   "execution_count": null,
   "id": "ca54d0b1",
   "metadata": {},
   "outputs": [],
   "source": [
    "query = \"\"\"\n",
    "\n",
    "\"\"\""
   ]
  },
  {
   "cell_type": "markdown",
   "id": "3689297c",
   "metadata": {},
   "source": [
    "### Получение данных"
   ]
  },
  {
   "cell_type": "code",
   "execution_count": null,
   "id": "f77c4c02",
   "metadata": {},
   "outputs": [],
   "source": [
    "conn = psycopg2.connect(**POSTGRES)\n",
    "\n",
    "try:\n",
    "    df = pd.read_sql(query, conn)\n",
    "except Exception as ex:\n",
    "    print(f\"Something is wrong: {ex}\")\n",
    "finally:\n",
    "    conn.close()"
   ]
  },
  {
   "cell_type": "code",
   "execution_count": null,
   "id": "64d06dd2",
   "metadata": {},
   "outputs": [],
   "source": [
    "df"
   ]
  },
  {
   "cell_type": "markdown",
   "id": "d2337d2b",
   "metadata": {},
   "source": [
    "## 3 Товарооборот <a class=\"anchor\" id=\"bullet-6\"></a>\n",
    "\n",
    "Добавим таблички `orders` и `orders_history` с данными заказов. \n",
    "\n",
    "Таблица `orders`:\n",
    "\n",
    "**order_id** | product | qty | ts\n",
    ":-- | :-- | :-- | :--\n",
    "546593652094504602 | Газонокосилка | 9 | 2021-07-19 08:32:31\n",
    "... | ... | ... | ...\n",
    "1948869281921308769 | Лампочка | 4 | 2021-07-19 08:42:45\n",
    "\n",
    "**order_id** - ID заказа, первичный ключ;  \n",
    "**product** - наименование товара;  \n",
    "**qty** - заказанное количество товара;  \n",
    "**ts** - дата и время создания заказа;  \n",
    "\n",
    "Таблица `orders_history`, отражает события, происходящие с заказом:\n",
    "\n",
    "**order_id** |  status | **ts**\n",
    ":-- | :-- | :--\n",
    "546593652094504602 | CREATED | 2021-07-19 08:32:31\n",
    "... | ... | ...\n",
    "546593652094504602 | CANCELLED | 2021-07-19 09:14:53\n",
    "\n",
    "**order_id** - ID заказа;  \n",
    "**status** - статус заказа:\n",
    "\n",
    "- 'CREATED' - заказ создан;\n",
    "- 'CANCELLED' - заказ отменен;\n",
    "- 'COMPLETED' - заказ исполнен;\n",
    "\n",
    "**ts** - дата и время, когла заказ получил статус;\n",
    "\n",
    "Первичный ключ: `(order_id, ts)`\n",
    "\n",
    "Покупки могут быть двух типов:\n",
    "\n",
    "- Оффлайн: клиенты покупают товар в магазине (в этом случае заказ не создается, а просто изменяется запас);\n",
    "- Онлайн: клиенты покупают товара через сайт, при покупке создается заказ со статусом 'CREATED', запас товара уменьшается на заказанное количество не позже, чем через 30 секунд после создания заказа (из-за лага в интеграции систем). Если заказ по какой-либо причине отменяется, заказанное количество возвращается и запас товара увеличивается.\n",
    "\n",
    "### Задача\n",
    "\n",
    "Методами языка SQL и(или) Python получить суммарный дневной онлайн и оффлайн товарооборот (продано в рублях) каждого из товаров. Отмененные  незавершенные заказы не должны учитываться при расчете.\n",
    "\n",
    "В результате выполнения запроса должен получиться датасет со следующими колонками:\n",
    "\n",
    "- **dt** - дата;\n",
    "- **product** - наименование товара;\n",
    "- **channel** - канал продажи: 'ONLINE', если был заказ, 'OFFLINE', если товар куплен в магазине (заказа не было);\n",
    "- **turnover** - товарооборот товара в указанную дату;\n",
    "\n",
    "### Твой запрос"
   ]
  },
  {
   "cell_type": "code",
   "execution_count": null,
   "id": "6271d98c",
   "metadata": {},
   "outputs": [],
   "source": [
    "query = \"\"\"\n",
    "\n",
    "\"\"\""
   ]
  },
  {
   "cell_type": "markdown",
   "id": "95a8c398",
   "metadata": {},
   "source": [
    "### Получение данных"
   ]
  },
  {
   "cell_type": "code",
   "execution_count": null,
   "id": "931402a0",
   "metadata": {},
   "outputs": [],
   "source": [
    "conn = psycopg2.connect(**POSTGRES)\n",
    "\n",
    "try:\n",
    "    df = pd.read_sql(query, conn)\n",
    "except Exception as ex:\n",
    "    print(f\"Something is wrong: {ex}\")\n",
    "finally:\n",
    "    conn.close()"
   ]
  },
  {
   "cell_type": "code",
   "execution_count": null,
   "id": "c5aeced4",
   "metadata": {},
   "outputs": [],
   "source": [
    "df"
   ]
  },
  {
   "cell_type": "code",
   "execution_count": null,
   "id": "c24d8f94",
   "metadata": {},
   "outputs": [],
   "source": []
  }
 ],
 "metadata": {
  "kernelspec": {
   "display_name": "Python 3 (ipykernel)",
   "language": "python",
   "name": "python3"
  },
  "language_info": {
   "codemirror_mode": {
    "name": "ipython",
    "version": 3
   },
   "file_extension": ".py",
   "mimetype": "text/x-python",
   "name": "python",
   "nbconvert_exporter": "python",
   "pygments_lexer": "ipython3",
   "version": "3.9.6"
  }
 },
 "nbformat": 4,
 "nbformat_minor": 5
}
