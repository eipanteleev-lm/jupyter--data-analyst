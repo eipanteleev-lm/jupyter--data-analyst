{
 "cells": [
  {
   "cell_type": "markdown",
   "id": "a4be6509",
   "metadata": {},
   "source": [
    "# Base Notebook\n",
    "\n",
    "Базовая ноутбука для создания задания\n",
    "\n",
    "- [Пример установки дополнительных библиотек](#bullet-1)\n",
    "- [Подключение линтера](#bullet-2)\n",
    "- [Пример подключения к базе](#bullet-3)\n",
    "- [1 [SQL] Последняя запись ](#bullet-4)\n",
    "- [2 [SQL] Продажи и возвраты](#bullet-5)"
   ]
  },
  {
   "cell_type": "markdown",
   "id": "9a02c01a",
   "metadata": {},
   "source": [
    "## Пример установки дополнительных библиотек <a class=\"anchor\" id=\"bullet-1\"></a>\n",
    "\n",
    "Просто `! pip install module-you-need`"
   ]
  },
  {
   "cell_type": "code",
   "execution_count": null,
   "id": "e6bb6634",
   "metadata": {},
   "outputs": [],
   "source": [
    "! pip install matplotlib"
   ]
  },
  {
   "cell_type": "markdown",
   "id": "17d104a0",
   "metadata": {},
   "source": [
    "## Подключение линтера <a class=\"anchor\" id=\"bullet-2\"></a>\n",
    "\n",
    "По приколу"
   ]
  },
  {
   "cell_type": "code",
   "execution_count": null,
   "id": "262bae00",
   "metadata": {},
   "outputs": [],
   "source": [
    "%load_ext pycodestyle_magic\n",
    "%flake8_on"
   ]
  },
  {
   "cell_type": "markdown",
   "id": "24b3044d",
   "metadata": {},
   "source": [
    "---"
   ]
  },
  {
   "cell_type": "code",
   "execution_count": null,
   "id": "9c4eb645",
   "metadata": {},
   "outputs": [],
   "source": [
    "import os\n",
    "\n",
    "import numpy as np\n",
    "\n",
    "import pandas as pd\n",
    "\n",
    "import psycopg2"
   ]
  },
  {
   "cell_type": "markdown",
   "id": "721af1b1",
   "metadata": {},
   "source": [
    "## Пример подключения к базе <a class=\"anchor\" id=\"bullet-3\"></a>"
   ]
  },
  {
   "cell_type": "code",
   "execution_count": null,
   "id": "02b2195f",
   "metadata": {},
   "outputs": [],
   "source": [
    "POSTGRES = dict(\n",
    "    host=os.environ['POSTGRES_HOST'],\n",
    "    port=int(os.environ['POSTGRES_PORT']),\n",
    "    dbname=os.environ['POSTGRES_DB'],\n",
    "    user=os.environ['POSTGRES_USER'],\n",
    "    password=os.environ['POSTGRES_PASSWORD']\n",
    ")"
   ]
  },
  {
   "cell_type": "code",
   "execution_count": null,
   "id": "93a3e7a1",
   "metadata": {},
   "outputs": [],
   "source": [
    "conn = psycopg2.connect(**POSTGRES)\n",
    "\n",
    "try:\n",
    "    df = pd.read_sql('select * from hello;', conn)\n",
    "except Exception as ex:\n",
    "    print(f\"Something is wrong: {ex}\")\n",
    "finally:\n",
    "    conn.close()"
   ]
  },
  {
   "cell_type": "code",
   "execution_count": null,
   "id": "7577f92e",
   "metadata": {},
   "outputs": [],
   "source": [
    "df"
   ]
  },
  {
   "cell_type": "markdown",
   "id": "1677e996",
   "metadata": {},
   "source": [
    "## 1 [SQL] Последняя запись <a class=\"anchor\" id=\"bullet-4\"></a>\n",
    "\n",
    "Есть таблица `stocks`, где хранится запас товара в магазине в некоторый момент времени.\n",
    "\n",
    "product | stock | ts\n",
    ":-- | :-- | :--\n",
    "Швабра | 15 | 2021-07-28 08:00:00\n",
    "Швабра | 14 | 2021-07-28 09:15:00\n",
    "Перфоратор | 2 | 2021-07-28 11:30:00\n",
    "... | ... | ...\n",
    "Швабра | 3 | 2021-07-29 19:13:00\n",
    "\n",
    "**product** - наименование товара;  \n",
    "**stock** - запас товара;  \n",
    "**ts** - момент, в который запас принял текущее значение;\n",
    "\n",
    "Методами языка SQL нужно найти последнее состояние запаса для каждого из товаров.\n",
    "\n",
    "### Твой запрос"
   ]
  },
  {
   "cell_type": "code",
   "execution_count": null,
   "id": "362566f4",
   "metadata": {},
   "outputs": [],
   "source": [
    "query = \"\"\"\n",
    "    \n",
    "    Your code here\n",
    "    \n",
    "\"\"\""
   ]
  },
  {
   "cell_type": "markdown",
   "id": "5928b0ad",
   "metadata": {},
   "source": [
    "### Получение данных"
   ]
  },
  {
   "cell_type": "code",
   "execution_count": null,
   "id": "695e2fcf",
   "metadata": {},
   "outputs": [],
   "source": [
    "conn = psycopg2.connect(**POSTGRES)\n",
    "\n",
    "try:\n",
    "    df = pd.read_sql(query, conn)\n",
    "except Exception as ex:\n",
    "    print(f\"Something is wrong: {ex}\")\n",
    "finally:\n",
    "    conn.close()"
   ]
  },
  {
   "cell_type": "code",
   "execution_count": null,
   "id": "5e46b738",
   "metadata": {},
   "outputs": [],
   "source": [
    "df"
   ]
  },
  {
   "cell_type": "markdown",
   "id": "2a378220",
   "metadata": {},
   "source": [
    "## 2 [SQL] Продажи и возвраты <a class=\"anchor\" id=\"bullet-5\"></a>\n",
    "\n",
    "Будем рассматривать два основных типа изменения запаса товара:\n",
    "- **Продажа** - запас уменьшился по сравнению с предыдущим значением, потому что-то купил товар\n",
    "- **Поставка** - запас увеличился по сравнению с предыдущим значением\n",
    "\n",
    "Методами языка SQL на основе дынных таблицы `stocks` нужно найти суммарные дневные продажи и поставки за каждый день.\n",
    "\n",
    "### Твой запрос"
   ]
  },
  {
   "cell_type": "code",
   "execution_count": null,
   "id": "065cc1ef",
   "metadata": {},
   "outputs": [],
   "source": [
    "query = \"\"\"\n",
    "    \n",
    "    Your code here\n",
    "    \n",
    "\"\"\""
   ]
  },
  {
   "cell_type": "markdown",
   "id": "c5948158",
   "metadata": {},
   "source": [
    "### Получение данных"
   ]
  },
  {
   "cell_type": "code",
   "execution_count": null,
   "id": "875461dd",
   "metadata": {},
   "outputs": [],
   "source": [
    "conn = psycopg2.connect(**POSTGRES)\n",
    "\n",
    "try:\n",
    "    df = pd.read_sql(query, conn)\n",
    "except Exception as ex:\n",
    "    print(f\"Something is wrong: {ex}\")\n",
    "finally:\n",
    "    conn.close()"
   ]
  },
  {
   "cell_type": "code",
   "execution_count": null,
   "id": "b95ed84b",
   "metadata": {},
   "outputs": [],
   "source": [
    "df"
   ]
  },
  {
   "cell_type": "code",
   "execution_count": null,
   "id": "6e376c9b",
   "metadata": {},
   "outputs": [],
   "source": []
  }
 ],
 "metadata": {
  "kernelspec": {
   "display_name": "Python 3 (ipykernel)",
   "language": "python",
   "name": "python3"
  },
  "language_info": {
   "codemirror_mode": {
    "name": "ipython",
    "version": 3
   },
   "file_extension": ".py",
   "mimetype": "text/x-python",
   "name": "python",
   "nbconvert_exporter": "python",
   "pygments_lexer": "ipython3",
   "version": "3.9.6"
  }
 },
 "nbformat": 4,
 "nbformat_minor": 5
}
